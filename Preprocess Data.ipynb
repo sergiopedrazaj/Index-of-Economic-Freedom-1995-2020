{
 "cells": [
  {
   "cell_type": "markdown",
   "metadata": {},
   "source": [
    "## Preprocessing Combined CSV Files with Economic Freedom Data from 1995 to 2020"
   ]
  },
  {
   "cell_type": "markdown",
   "metadata": {},
   "source": [
    "### Step 1: Import the relevant libraries."
   ]
  },
  {
   "cell_type": "code",
   "execution_count": 1,
   "metadata": {},
   "outputs": [],
   "source": [
    "import pandas as pd"
   ]
  },
  {
   "cell_type": "markdown",
   "metadata": {},
   "source": [
    "### Step 2: Import the combined .csv File"
   ]
  },
  {
   "cell_type": "code",
   "execution_count": 2,
   "metadata": {},
   "outputs": [],
   "source": [
    "raw_data = pd.read_csv('1995_2020.csv')"
   ]
  },
  {
   "cell_type": "code",
   "execution_count": 3,
   "metadata": {},
   "outputs": [
    {
     "data": {
      "text/html": [
       "<div>\n",
       "<style scoped>\n",
       "    .dataframe tbody tr th:only-of-type {\n",
       "        vertical-align: middle;\n",
       "    }\n",
       "\n",
       "    .dataframe tbody tr th {\n",
       "        vertical-align: top;\n",
       "    }\n",
       "\n",
       "    .dataframe thead th {\n",
       "        text-align: right;\n",
       "    }\n",
       "</style>\n",
       "<table border=\"1\" class=\"dataframe\">\n",
       "  <thead>\n",
       "    <tr style=\"text-align: right;\">\n",
       "      <th></th>\n",
       "      <th>Name</th>\n",
       "      <th>Index Year</th>\n",
       "      <th>Overall Score</th>\n",
       "      <th>Property Rights</th>\n",
       "      <th>Judicial Effectiveness</th>\n",
       "      <th>Government Integrity</th>\n",
       "      <th>Tax Burden</th>\n",
       "      <th>Government Spending</th>\n",
       "      <th>Fiscal Health</th>\n",
       "      <th>Business Freedom</th>\n",
       "      <th>Labor Freedom</th>\n",
       "      <th>Monetary Freedom</th>\n",
       "      <th>Trade Freedom</th>\n",
       "      <th>Investment Freedom</th>\n",
       "      <th>Financial Freedom</th>\n",
       "    </tr>\n",
       "  </thead>\n",
       "  <tbody>\n",
       "    <tr>\n",
       "      <th>0</th>\n",
       "      <td>Afghanistan</td>\n",
       "      <td>1995</td>\n",
       "      <td>NaN</td>\n",
       "      <td>NaN</td>\n",
       "      <td>NaN</td>\n",
       "      <td>NaN</td>\n",
       "      <td>NaN</td>\n",
       "      <td>NaN</td>\n",
       "      <td>NaN</td>\n",
       "      <td>NaN</td>\n",
       "      <td>NaN</td>\n",
       "      <td>NaN</td>\n",
       "      <td>NaN</td>\n",
       "      <td>NaN</td>\n",
       "      <td>NaN</td>\n",
       "    </tr>\n",
       "    <tr>\n",
       "      <th>1</th>\n",
       "      <td>Albania</td>\n",
       "      <td>1995</td>\n",
       "      <td>49.7</td>\n",
       "      <td>50.0</td>\n",
       "      <td>NaN</td>\n",
       "      <td>10.0</td>\n",
       "      <td>81.7</td>\n",
       "      <td>34.3</td>\n",
       "      <td>NaN</td>\n",
       "      <td>70.0</td>\n",
       "      <td>NaN</td>\n",
       "      <td>22.1</td>\n",
       "      <td>59.0</td>\n",
       "      <td>70.0</td>\n",
       "      <td>50.0</td>\n",
       "    </tr>\n",
       "    <tr>\n",
       "      <th>2</th>\n",
       "      <td>Algeria</td>\n",
       "      <td>1995</td>\n",
       "      <td>55.7</td>\n",
       "      <td>50.0</td>\n",
       "      <td>NaN</td>\n",
       "      <td>50.0</td>\n",
       "      <td>48.8</td>\n",
       "      <td>69.5</td>\n",
       "      <td>NaN</td>\n",
       "      <td>70.0</td>\n",
       "      <td>NaN</td>\n",
       "      <td>59.2</td>\n",
       "      <td>54.2</td>\n",
       "      <td>50.0</td>\n",
       "      <td>50.0</td>\n",
       "    </tr>\n",
       "    <tr>\n",
       "      <th>3</th>\n",
       "      <td>Angola</td>\n",
       "      <td>1995</td>\n",
       "      <td>27.4</td>\n",
       "      <td>30.0</td>\n",
       "      <td>NaN</td>\n",
       "      <td>30.0</td>\n",
       "      <td>61.6</td>\n",
       "      <td>0.0</td>\n",
       "      <td>NaN</td>\n",
       "      <td>40.0</td>\n",
       "      <td>NaN</td>\n",
       "      <td>0.0</td>\n",
       "      <td>25.0</td>\n",
       "      <td>30.0</td>\n",
       "      <td>30.0</td>\n",
       "    </tr>\n",
       "    <tr>\n",
       "      <th>4</th>\n",
       "      <td>Argentina</td>\n",
       "      <td>1995</td>\n",
       "      <td>68.0</td>\n",
       "      <td>70.0</td>\n",
       "      <td>NaN</td>\n",
       "      <td>50.0</td>\n",
       "      <td>80.7</td>\n",
       "      <td>86.6</td>\n",
       "      <td>NaN</td>\n",
       "      <td>85.0</td>\n",
       "      <td>NaN</td>\n",
       "      <td>61.1</td>\n",
       "      <td>58.4</td>\n",
       "      <td>70.0</td>\n",
       "      <td>50.0</td>\n",
       "    </tr>\n",
       "  </tbody>\n",
       "</table>\n",
       "</div>"
      ],
      "text/plain": [
       "          Name  Index Year  Overall Score  Property Rights  \\\n",
       "0  Afghanistan        1995            NaN              NaN   \n",
       "1      Albania        1995           49.7             50.0   \n",
       "2      Algeria        1995           55.7             50.0   \n",
       "3       Angola        1995           27.4             30.0   \n",
       "4    Argentina        1995           68.0             70.0   \n",
       "\n",
       "   Judicial Effectiveness  Government Integrity  Tax Burden  \\\n",
       "0                     NaN                   NaN         NaN   \n",
       "1                     NaN                  10.0        81.7   \n",
       "2                     NaN                  50.0        48.8   \n",
       "3                     NaN                  30.0        61.6   \n",
       "4                     NaN                  50.0        80.7   \n",
       "\n",
       "   Government Spending  Fiscal Health  Business Freedom  Labor Freedom  \\\n",
       "0                  NaN            NaN               NaN            NaN   \n",
       "1                 34.3            NaN              70.0            NaN   \n",
       "2                 69.5            NaN              70.0            NaN   \n",
       "3                  0.0            NaN              40.0            NaN   \n",
       "4                 86.6            NaN              85.0            NaN   \n",
       "\n",
       "   Monetary Freedom  Trade Freedom  Investment Freedom  Financial Freedom  \n",
       "0               NaN            NaN                 NaN                NaN  \n",
       "1              22.1           59.0                70.0               50.0  \n",
       "2              59.2           54.2                50.0               50.0  \n",
       "3               0.0           25.0                30.0               30.0  \n",
       "4              61.1           58.4                70.0               50.0  "
      ]
     },
     "execution_count": 3,
     "metadata": {},
     "output_type": "execute_result"
    }
   ],
   "source": [
    "raw_data.head()"
   ]
  },
  {
   "cell_type": "code",
   "execution_count": 4,
   "metadata": {},
   "outputs": [],
   "source": [
    "df_preprocessed = raw_data.copy()"
   ]
  },
  {
   "cell_type": "markdown",
   "metadata": {},
   "source": [
    "### Step 3: Drop unnecessary columns. Our goal is to visualize the 'Overall Score'. So, other than 'Country name', 'Index Year' and 'Overall Score', can be dropped."
   ]
  },
  {
   "cell_type": "code",
   "execution_count": 5,
   "metadata": {},
   "outputs": [],
   "source": [
    "df_preprocessed.drop(df_preprocessed.iloc[:, 3:len(df_preprocessed.columns)], inplace = True, axis = 1)"
   ]
  },
  {
   "cell_type": "markdown",
   "metadata": {},
   "source": [
    "### Step 4: Drop rows with missing values. Rename \"Name\" column as \"Country\", \"Index Year\" as \"Year\" and \"Overall Score\" as \"Score\""
   ]
  },
  {
   "cell_type": "code",
   "execution_count": 6,
   "metadata": {},
   "outputs": [],
   "source": [
    "df_preprocessed = df_preprocessed.rename(columns={'Name':'Country','Index Year':'Year','Overall Score':'Score'})\n",
    "df_preprocessed = df_preprocessed.dropna(axis=0)\n",
    "df_preprocessed = df_preprocessed.reset_index().drop(['index'],axis=1)"
   ]
  },
  {
   "cell_type": "markdown",
   "metadata": {},
   "source": [
    "### Step 5: Let us set some categories according to the 'Score' value, according to the classification in https://www.heritage.org/index/ranking\n",
    "\n",
    "Free (80–100)\n",
    "\n",
    "Mostly Free (70–79.9)\n",
    "\n",
    "Moderately Free (65–69.9)\n",
    "\n",
    "Moderately Unfree (60–64.9)\n",
    "\n",
    "Mostly Unfree (50–59.9)\n",
    "\n",
    "Repressed (0–49.9)"
   ]
  },
  {
   "cell_type": "code",
   "execution_count": 7,
   "metadata": {},
   "outputs": [],
   "source": [
    "category = []\n",
    "\n",
    "for i in df_preprocessed['Score']:\n",
    "    if i >= 80:\n",
    "        category.append('Free')\n",
    "    elif i<80 and i>=70:\n",
    "        category.append('Mostly Free')\n",
    "    elif i<70 and i>=65:\n",
    "        category.append('Moderately Free')\n",
    "    elif i<65 and i>=60:\n",
    "        category.append('Moderately Unfree')\n",
    "    elif i<60 and i>=50:\n",
    "        category.append('Mostly Unfree')\n",
    "    else:\n",
    "        category.append('Repressed')"
   ]
  },
  {
   "cell_type": "code",
   "execution_count": 8,
   "metadata": {},
   "outputs": [],
   "source": [
    "df_labelled = df_preprocessed.copy()\n",
    "df_labelled['Category'] = category"
   ]
  },
  {
   "cell_type": "code",
   "execution_count": 9,
   "metadata": {},
   "outputs": [
    {
     "data": {
      "text/html": [
       "<div>\n",
       "<style scoped>\n",
       "    .dataframe tbody tr th:only-of-type {\n",
       "        vertical-align: middle;\n",
       "    }\n",
       "\n",
       "    .dataframe tbody tr th {\n",
       "        vertical-align: top;\n",
       "    }\n",
       "\n",
       "    .dataframe thead th {\n",
       "        text-align: right;\n",
       "    }\n",
       "</style>\n",
       "<table border=\"1\" class=\"dataframe\">\n",
       "  <thead>\n",
       "    <tr style=\"text-align: right;\">\n",
       "      <th></th>\n",
       "      <th>Country</th>\n",
       "      <th>Year</th>\n",
       "      <th>Score</th>\n",
       "      <th>Category</th>\n",
       "    </tr>\n",
       "  </thead>\n",
       "  <tbody>\n",
       "    <tr>\n",
       "      <th>0</th>\n",
       "      <td>Albania</td>\n",
       "      <td>1995</td>\n",
       "      <td>49.7</td>\n",
       "      <td>Repressed</td>\n",
       "    </tr>\n",
       "    <tr>\n",
       "      <th>1</th>\n",
       "      <td>Algeria</td>\n",
       "      <td>1995</td>\n",
       "      <td>55.7</td>\n",
       "      <td>Mostly Unfree</td>\n",
       "    </tr>\n",
       "    <tr>\n",
       "      <th>2</th>\n",
       "      <td>Angola</td>\n",
       "      <td>1995</td>\n",
       "      <td>27.4</td>\n",
       "      <td>Repressed</td>\n",
       "    </tr>\n",
       "    <tr>\n",
       "      <th>3</th>\n",
       "      <td>Argentina</td>\n",
       "      <td>1995</td>\n",
       "      <td>68.0</td>\n",
       "      <td>Moderately Free</td>\n",
       "    </tr>\n",
       "    <tr>\n",
       "      <th>4</th>\n",
       "      <td>Australia</td>\n",
       "      <td>1995</td>\n",
       "      <td>74.1</td>\n",
       "      <td>Mostly Free</td>\n",
       "    </tr>\n",
       "    <tr>\n",
       "      <th>...</th>\n",
       "      <td>...</td>\n",
       "      <td>...</td>\n",
       "      <td>...</td>\n",
       "      <td>...</td>\n",
       "    </tr>\n",
       "    <tr>\n",
       "      <th>4258</th>\n",
       "      <td>Vanuatu</td>\n",
       "      <td>2020</td>\n",
       "      <td>60.7</td>\n",
       "      <td>Moderately Unfree</td>\n",
       "    </tr>\n",
       "    <tr>\n",
       "      <th>4259</th>\n",
       "      <td>Venezuela</td>\n",
       "      <td>2020</td>\n",
       "      <td>25.2</td>\n",
       "      <td>Repressed</td>\n",
       "    </tr>\n",
       "    <tr>\n",
       "      <th>4260</th>\n",
       "      <td>Vietnam</td>\n",
       "      <td>2020</td>\n",
       "      <td>58.8</td>\n",
       "      <td>Mostly Unfree</td>\n",
       "    </tr>\n",
       "    <tr>\n",
       "      <th>4261</th>\n",
       "      <td>Zambia</td>\n",
       "      <td>2020</td>\n",
       "      <td>53.5</td>\n",
       "      <td>Mostly Unfree</td>\n",
       "    </tr>\n",
       "    <tr>\n",
       "      <th>4262</th>\n",
       "      <td>Zimbabwe</td>\n",
       "      <td>2020</td>\n",
       "      <td>43.1</td>\n",
       "      <td>Repressed</td>\n",
       "    </tr>\n",
       "  </tbody>\n",
       "</table>\n",
       "<p>4263 rows × 4 columns</p>\n",
       "</div>"
      ],
      "text/plain": [
       "         Country  Year  Score           Category\n",
       "0        Albania  1995   49.7          Repressed\n",
       "1        Algeria  1995   55.7      Mostly Unfree\n",
       "2         Angola  1995   27.4          Repressed\n",
       "3      Argentina  1995   68.0    Moderately Free\n",
       "4      Australia  1995   74.1        Mostly Free\n",
       "...          ...   ...    ...                ...\n",
       "4258     Vanuatu  2020   60.7  Moderately Unfree\n",
       "4259  Venezuela   2020   25.2          Repressed\n",
       "4260     Vietnam  2020   58.8      Mostly Unfree\n",
       "4261      Zambia  2020   53.5      Mostly Unfree\n",
       "4262    Zimbabwe  2020   43.1          Repressed\n",
       "\n",
       "[4263 rows x 4 columns]"
      ]
     },
     "execution_count": 9,
     "metadata": {},
     "output_type": "execute_result"
    }
   ],
   "source": [
    "df_labelled"
   ]
  },
  {
   "cell_type": "markdown",
   "metadata": {},
   "source": [
    "### Step 5: Export to .csv file"
   ]
  },
  {
   "cell_type": "code",
   "execution_count": 10,
   "metadata": {},
   "outputs": [],
   "source": [
    "df_labelled.to_csv('1995_2020_preprocessed.csv')"
   ]
  }
 ],
 "metadata": {
  "kernelspec": {
   "display_name": "Python 3",
   "language": "python",
   "name": "python3"
  },
  "language_info": {
   "codemirror_mode": {
    "name": "ipython",
    "version": 3
   },
   "file_extension": ".py",
   "mimetype": "text/x-python",
   "name": "python",
   "nbconvert_exporter": "python",
   "pygments_lexer": "ipython3",
   "version": "3.7.6"
  }
 },
 "nbformat": 4,
 "nbformat_minor": 4
}
